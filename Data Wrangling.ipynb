{
 "metadata": {
  "language_info": {
   "codemirror_mode": {
    "name": "ipython",
    "version": 3
   },
   "file_extension": ".py",
   "mimetype": "text/x-python",
   "name": "python",
   "nbconvert_exporter": "python",
   "pygments_lexer": "ipython3",
   "version": "3.8.5"
  },
  "orig_nbformat": 4,
  "kernelspec": {
   "name": "python3",
   "display_name": "Python 3.8.5 64-bit"
  },
  "interpreter": {
   "hash": "c3ae22b844db142b40ee44c017e19b92c4d7208685f48a9abdf5417629f14980"
  }
 },
 "nbformat": 4,
 "nbformat_minor": 2,
 "cells": [
  {
   "source": [
    "# **SpaceX  Falcon 9 First Stage Landing Prediction**\n",
    "## Data Wrangling"
   ],
   "cell_type": "markdown",
   "metadata": {}
  },
  {
   "source": [
    "## Objectives\n",
    "\n",
    "We convert Outcome labels into 0,1 for Machine Learning\n",
    "\n",
    "*   Transforming Data for Machine Learning"
   ],
   "cell_type": "markdown",
   "metadata": {}
  },
  {
   "cell_type": "code",
   "execution_count": 4,
   "metadata": {},
   "outputs": [],
   "source": [
    "import pandas as pd\n",
    "import numpy as np\n",
    "df=pd.read_csv(\"dataset_part_1.csv\")\n",
    "landing_outcomes = df[\"Outcome\"].value_counts()\n",
    "\n",
    "bad_outcomes=set(landing_outcomes.keys()[[0,3,5,6,7]])\n",
    "landing_class = []\n",
    "\n",
    "for key,value in df[\"Outcome\"].items():\n",
    "     if value in bad_outcomes:\n",
    "        landing_class.append(1)\n",
    "     else:\n",
    "        landing_class.append(0) \n",
    "\n",
    "df['Class']= landing_class\n",
    "df.to_csv(\"dataset_part_1.csv\", index=False)"
   ]
  },
  {
   "source": [
    "#### Author: Ashlin Darius Govindasamy"
   ],
   "cell_type": "markdown",
   "metadata": {}
  }
 ]
}